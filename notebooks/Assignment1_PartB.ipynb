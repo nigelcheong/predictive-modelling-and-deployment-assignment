{
 "cells": [
  {
   "cell_type": "markdown",
   "id": "9ec07e87-f6f5-4155-803e-c814ac6dee81",
   "metadata": {},
   "source": [
    "## Part B: Predictive Modelling"
   ]
  },
  {
   "cell_type": "code",
   "execution_count": 1,
   "id": "d4030628-3291-4064-b707-f49f0c339831",
   "metadata": {},
   "outputs": [],
   "source": [
    "import pandas as pd\n",
    "import numpy as np"
   ]
  },
  {
   "cell_type": "code",
   "execution_count": 2,
   "id": "dba9c740-51ef-47dc-bb5c-8f06ea154f2f",
   "metadata": {},
   "outputs": [
    {
     "data": {
      "text/html": [
       "<div>\n",
       "<style scoped>\n",
       "    .dataframe tbody tr th:only-of-type {\n",
       "        vertical-align: middle;\n",
       "    }\n",
       "\n",
       "    .dataframe tbody tr th {\n",
       "        vertical-align: top;\n",
       "    }\n",
       "\n",
       "    .dataframe thead th {\n",
       "        text-align: right;\n",
       "    }\n",
       "</style>\n",
       "<table border=\"1\" class=\"dataframe\">\n",
       "  <thead>\n",
       "    <tr style=\"text-align: right;\">\n",
       "      <th></th>\n",
       "      <th>address</th>\n",
       "      <th>cost</th>\n",
       "      <th>cuisine</th>\n",
       "      <th>lat</th>\n",
       "      <th>link</th>\n",
       "      <th>lng</th>\n",
       "      <th>phone</th>\n",
       "      <th>rating_number</th>\n",
       "      <th>rating_text</th>\n",
       "      <th>subzone</th>\n",
       "      <th>title</th>\n",
       "      <th>type</th>\n",
       "      <th>votes</th>\n",
       "      <th>groupon</th>\n",
       "      <th>color</th>\n",
       "      <th>cost_2</th>\n",
       "      <th>cuisine_color</th>\n",
       "    </tr>\n",
       "  </thead>\n",
       "  <tbody>\n",
       "    <tr>\n",
       "      <th>0</th>\n",
       "      <td>371A Pitt Street, CBD, Sydney</td>\n",
       "      <td>50.0</td>\n",
       "      <td>['Hot Pot', 'Korean BBQ', 'BBQ', 'Korean']</td>\n",
       "      <td>-33.876059</td>\n",
       "      <td>https://www.zomato.com/sydney/sydney-madang-cbd</td>\n",
       "      <td>151.207605</td>\n",
       "      <td>02 8318 0406</td>\n",
       "      <td>4.0</td>\n",
       "      <td>Very Good</td>\n",
       "      <td>CBD</td>\n",
       "      <td>Sydney Madang</td>\n",
       "      <td>['Casual Dining']</td>\n",
       "      <td>1311.0</td>\n",
       "      <td>False</td>\n",
       "      <td>#e15307</td>\n",
       "      <td>5.243902</td>\n",
       "      <td>#6f706b</td>\n",
       "    </tr>\n",
       "    <tr>\n",
       "      <th>1</th>\n",
       "      <td>Shop 7A, 2 Huntley Street, Alexandria, Sydney</td>\n",
       "      <td>80.0</td>\n",
       "      <td>['Cafe', 'Coffee and Tea', 'Salad', 'Poké']</td>\n",
       "      <td>-33.910999</td>\n",
       "      <td>https://www.zomato.com/sydney/the-grounds-of-a...</td>\n",
       "      <td>151.193793</td>\n",
       "      <td>02 9699 2225</td>\n",
       "      <td>4.6</td>\n",
       "      <td>Excellent</td>\n",
       "      <td>The Grounds of Alexandria, Alexandria</td>\n",
       "      <td>The Grounds of Alexandria Cafe</td>\n",
       "      <td>['Café']</td>\n",
       "      <td>3236.0</td>\n",
       "      <td>False</td>\n",
       "      <td>#9c3203</td>\n",
       "      <td>7.560976</td>\n",
       "      <td>#6f706b</td>\n",
       "    </tr>\n",
       "    <tr>\n",
       "      <th>2</th>\n",
       "      <td>Level G, The Darling at the Star, 80 Pyrmont ...</td>\n",
       "      <td>120.0</td>\n",
       "      <td>['Japanese']</td>\n",
       "      <td>-33.867971</td>\n",
       "      <td>https://www.zomato.com/sydney/sokyo-pyrmont</td>\n",
       "      <td>151.195210</td>\n",
       "      <td>1800 700 700</td>\n",
       "      <td>4.9</td>\n",
       "      <td>Excellent</td>\n",
       "      <td>The Star, Pyrmont</td>\n",
       "      <td>Sokyo</td>\n",
       "      <td>['Fine Dining']</td>\n",
       "      <td>1227.0</td>\n",
       "      <td>False</td>\n",
       "      <td>#7f2704</td>\n",
       "      <td>10.650407</td>\n",
       "      <td>#6f706b</td>\n",
       "    </tr>\n",
       "    <tr>\n",
       "      <th>3</th>\n",
       "      <td>Sydney Opera House, Bennelong Point, Circular...</td>\n",
       "      <td>270.0</td>\n",
       "      <td>['Modern Australian']</td>\n",
       "      <td>-33.856784</td>\n",
       "      <td>https://www.zomato.com/sydney/bennelong-restau...</td>\n",
       "      <td>151.215297</td>\n",
       "      <td>02 9240 8000</td>\n",
       "      <td>4.9</td>\n",
       "      <td>Excellent</td>\n",
       "      <td>Circular Quay</td>\n",
       "      <td>Bennelong Restaurant</td>\n",
       "      <td>['Fine Dining', 'Bar']</td>\n",
       "      <td>278.0</td>\n",
       "      <td>False</td>\n",
       "      <td>#7f2704</td>\n",
       "      <td>22.235772</td>\n",
       "      <td>#4186f4</td>\n",
       "    </tr>\n",
       "    <tr>\n",
       "      <th>4</th>\n",
       "      <td>20 Campbell Street, Chinatown, Sydney</td>\n",
       "      <td>55.0</td>\n",
       "      <td>['Thai', 'Salad']</td>\n",
       "      <td>-33.879035</td>\n",
       "      <td>https://www.zomato.com/sydney/chat-thai-chinatown</td>\n",
       "      <td>151.206409</td>\n",
       "      <td>02 8317 4811</td>\n",
       "      <td>4.5</td>\n",
       "      <td>Excellent</td>\n",
       "      <td>Chinatown</td>\n",
       "      <td>Chat Thai</td>\n",
       "      <td>['Casual Dining']</td>\n",
       "      <td>2150.0</td>\n",
       "      <td>False</td>\n",
       "      <td>#a83703</td>\n",
       "      <td>5.630081</td>\n",
       "      <td>#6f706b</td>\n",
       "    </tr>\n",
       "  </tbody>\n",
       "</table>\n",
       "</div>"
      ],
      "text/plain": [
       "                                             address   cost  \\\n",
       "0                      371A Pitt Street, CBD, Sydney   50.0   \n",
       "1      Shop 7A, 2 Huntley Street, Alexandria, Sydney   80.0   \n",
       "2   Level G, The Darling at the Star, 80 Pyrmont ...  120.0   \n",
       "3   Sydney Opera House, Bennelong Point, Circular...  270.0   \n",
       "4              20 Campbell Street, Chinatown, Sydney   55.0   \n",
       "\n",
       "                                       cuisine        lat  \\\n",
       "0   ['Hot Pot', 'Korean BBQ', 'BBQ', 'Korean'] -33.876059   \n",
       "1  ['Cafe', 'Coffee and Tea', 'Salad', 'Poké'] -33.910999   \n",
       "2                                 ['Japanese'] -33.867971   \n",
       "3                        ['Modern Australian'] -33.856784   \n",
       "4                            ['Thai', 'Salad'] -33.879035   \n",
       "\n",
       "                                                link         lng  \\\n",
       "0    https://www.zomato.com/sydney/sydney-madang-cbd  151.207605   \n",
       "1  https://www.zomato.com/sydney/the-grounds-of-a...  151.193793   \n",
       "2        https://www.zomato.com/sydney/sokyo-pyrmont  151.195210   \n",
       "3  https://www.zomato.com/sydney/bennelong-restau...  151.215297   \n",
       "4  https://www.zomato.com/sydney/chat-thai-chinatown  151.206409   \n",
       "\n",
       "          phone  rating_number rating_text  \\\n",
       "0  02 8318 0406            4.0   Very Good   \n",
       "1  02 9699 2225            4.6   Excellent   \n",
       "2  1800 700 700            4.9   Excellent   \n",
       "3  02 9240 8000            4.9   Excellent   \n",
       "4  02 8317 4811            4.5   Excellent   \n",
       "\n",
       "                                 subzone                           title  \\\n",
       "0                                    CBD                   Sydney Madang   \n",
       "1  The Grounds of Alexandria, Alexandria  The Grounds of Alexandria Cafe   \n",
       "2                      The Star, Pyrmont                           Sokyo   \n",
       "3                          Circular Quay            Bennelong Restaurant   \n",
       "4                              Chinatown                       Chat Thai   \n",
       "\n",
       "                     type   votes  groupon    color     cost_2 cuisine_color  \n",
       "0       ['Casual Dining']  1311.0    False  #e15307   5.243902       #6f706b  \n",
       "1                ['Café']  3236.0    False  #9c3203   7.560976       #6f706b  \n",
       "2         ['Fine Dining']  1227.0    False  #7f2704  10.650407       #6f706b  \n",
       "3  ['Fine Dining', 'Bar']   278.0    False  #7f2704  22.235772       #4186f4  \n",
       "4       ['Casual Dining']  2150.0    False  #a83703   5.630081       #6f706b  "
      ]
     },
     "metadata": {},
     "output_type": "display_data"
    },
    {
     "name": "stdout",
     "output_type": "stream",
     "text": [
      "\n",
      "Dataset dimensions: (10500, 17)\n"
     ]
    }
   ],
   "source": [
    "df = pd.read_csv('../data/zomato_df_final_data.csv')\n",
    "display(df.head())\n",
    "print('\\nDataset dimensions:', df.shape)"
   ]
  },
  {
   "cell_type": "code",
   "execution_count": 3,
   "id": "ea5c8759-8fcd-4e09-b917-a68163f33e6e",
   "metadata": {},
   "outputs": [
    {
     "data": {
      "text/html": [
       "<div>\n",
       "<style scoped>\n",
       "    .dataframe tbody tr th:only-of-type {\n",
       "        vertical-align: middle;\n",
       "    }\n",
       "\n",
       "    .dataframe tbody tr th {\n",
       "        vertical-align: top;\n",
       "    }\n",
       "\n",
       "    .dataframe thead th {\n",
       "        text-align: right;\n",
       "    }\n",
       "</style>\n",
       "<table border=\"1\" class=\"dataframe\">\n",
       "  <thead>\n",
       "    <tr style=\"text-align: right;\">\n",
       "      <th></th>\n",
       "      <th>cost</th>\n",
       "      <th>lat</th>\n",
       "      <th>lng</th>\n",
       "      <th>rating_number</th>\n",
       "      <th>votes</th>\n",
       "      <th>cost_2</th>\n",
       "    </tr>\n",
       "  </thead>\n",
       "  <tbody>\n",
       "    <tr>\n",
       "      <th>count</th>\n",
       "      <td>10154.000000</td>\n",
       "      <td>10308.000000</td>\n",
       "      <td>10308.000000</td>\n",
       "      <td>7184.000000</td>\n",
       "      <td>7184.000000</td>\n",
       "      <td>10154.000000</td>\n",
       "    </tr>\n",
       "    <tr>\n",
       "      <th>mean</th>\n",
       "      <td>51.153240</td>\n",
       "      <td>-32.921377</td>\n",
       "      <td>148.067359</td>\n",
       "      <td>3.283672</td>\n",
       "      <td>83.581013</td>\n",
       "      <td>5.332974</td>\n",
       "    </tr>\n",
       "    <tr>\n",
       "      <th>std</th>\n",
       "      <td>27.799485</td>\n",
       "      <td>8.263449</td>\n",
       "      <td>26.695402</td>\n",
       "      <td>0.454580</td>\n",
       "      <td>175.117966</td>\n",
       "      <td>2.147115</td>\n",
       "    </tr>\n",
       "    <tr>\n",
       "      <th>min</th>\n",
       "      <td>8.000000</td>\n",
       "      <td>-37.858473</td>\n",
       "      <td>-123.270371</td>\n",
       "      <td>1.800000</td>\n",
       "      <td>4.000000</td>\n",
       "      <td>2.000000</td>\n",
       "    </tr>\n",
       "    <tr>\n",
       "      <th>25%</th>\n",
       "      <td>30.000000</td>\n",
       "      <td>-33.899094</td>\n",
       "      <td>151.061061</td>\n",
       "      <td>3.000000</td>\n",
       "      <td>12.000000</td>\n",
       "      <td>3.699187</td>\n",
       "    </tr>\n",
       "    <tr>\n",
       "      <th>50%</th>\n",
       "      <td>45.000000</td>\n",
       "      <td>-33.872741</td>\n",
       "      <td>151.172468</td>\n",
       "      <td>3.300000</td>\n",
       "      <td>32.000000</td>\n",
       "      <td>4.857724</td>\n",
       "    </tr>\n",
       "    <tr>\n",
       "      <th>75%</th>\n",
       "      <td>60.000000</td>\n",
       "      <td>-33.813451</td>\n",
       "      <td>151.208940</td>\n",
       "      <td>3.600000</td>\n",
       "      <td>87.000000</td>\n",
       "      <td>6.016260</td>\n",
       "    </tr>\n",
       "    <tr>\n",
       "      <th>max</th>\n",
       "      <td>500.000000</td>\n",
       "      <td>51.500986</td>\n",
       "      <td>152.869052</td>\n",
       "      <td>4.900000</td>\n",
       "      <td>3236.000000</td>\n",
       "      <td>40.000000</td>\n",
       "    </tr>\n",
       "  </tbody>\n",
       "</table>\n",
       "</div>"
      ],
      "text/plain": [
       "               cost           lat           lng  rating_number        votes  \\\n",
       "count  10154.000000  10308.000000  10308.000000    7184.000000  7184.000000   \n",
       "mean      51.153240    -32.921377    148.067359       3.283672    83.581013   \n",
       "std       27.799485      8.263449     26.695402       0.454580   175.117966   \n",
       "min        8.000000    -37.858473   -123.270371       1.800000     4.000000   \n",
       "25%       30.000000    -33.899094    151.061061       3.000000    12.000000   \n",
       "50%       45.000000    -33.872741    151.172468       3.300000    32.000000   \n",
       "75%       60.000000    -33.813451    151.208940       3.600000    87.000000   \n",
       "max      500.000000     51.500986    152.869052       4.900000  3236.000000   \n",
       "\n",
       "             cost_2  \n",
       "count  10154.000000  \n",
       "mean       5.332974  \n",
       "std        2.147115  \n",
       "min        2.000000  \n",
       "25%        3.699187  \n",
       "50%        4.857724  \n",
       "75%        6.016260  \n",
       "max       40.000000  "
      ]
     },
     "execution_count": 3,
     "metadata": {},
     "output_type": "execute_result"
    }
   ],
   "source": [
    "df.describe()"
   ]
  },
  {
   "cell_type": "code",
   "execution_count": 17,
   "id": "74bbdac5-2200-42e9-8335-add832a44e73",
   "metadata": {},
   "outputs": [
    {
     "data": {
      "text/plain": [
       "address           object\n",
       "cost             float64\n",
       "cuisine           object\n",
       "lat              float64\n",
       "link              object\n",
       "lng              float64\n",
       "phone             object\n",
       "rating_number    float64\n",
       "rating_text       object\n",
       "subzone           object\n",
       "title             object\n",
       "type              object\n",
       "votes            float64\n",
       "groupon             bool\n",
       "color             object\n",
       "cost_2           float64\n",
       "cuisine_color     object\n",
       "dtype: object"
      ]
     },
     "execution_count": 17,
     "metadata": {},
     "output_type": "execute_result"
    }
   ],
   "source": [
    "df.dtypes"
   ]
  },
  {
   "cell_type": "markdown",
   "id": "cae860df-736f-4641-a3b9-2134efc0e4df",
   "metadata": {},
   "source": [
    "### 1. Feature Engineering"
   ]
  },
  {
   "cell_type": "markdown",
   "id": "caa238d5-7f48-4940-921e-fd3afee13a1c",
   "metadata": {},
   "source": [
    "#### 1.1. NA Handling"
   ]
  },
  {
   "cell_type": "markdown",
   "id": "7b2788dc-bd80-4230-9f3d-83a977323699",
   "metadata": {},
   "source": [
    "<p>\n",
    "    We can see missing values make up 31.6% of the total number for rows for rating_number, rating_text, and votes. Considering that rating_number and rating_text are our target variables, we cannot reliable impute them. Therefore, we shall remove all of these rows.\n",
    "</p>"
   ]
  },
  {
   "cell_type": "code",
   "execution_count": 4,
   "id": "0e0fc467-e9cd-4d35-abd2-761485812993",
   "metadata": {},
   "outputs": [
    {
     "name": "stdout",
     "output_type": "stream",
     "text": [
      "               Missing Values  Percentage\n",
      "address                     0    0.000000\n",
      "cost                      346    0.032952\n",
      "cuisine                     0    0.000000\n",
      "lat                       192    0.018286\n",
      "link                        0    0.000000\n",
      "lng                       192    0.018286\n",
      "phone                       0    0.000000\n",
      "rating_number            3316    0.315810\n",
      "rating_text              3316    0.315810\n",
      "subzone                     0    0.000000\n",
      "title                       0    0.000000\n",
      "type                       48    0.004571\n",
      "votes                    3316    0.315810\n",
      "groupon                     0    0.000000\n",
      "color                       0    0.000000\n",
      "cost_2                    346    0.032952\n",
      "cuisine_color               0    0.000000\n"
     ]
    }
   ],
   "source": [
    "na_summary_table = pd.DataFrame({\n",
    "    'Missing Values': df.isna().sum(),\n",
    "    'Percentage': df.isna().mean()\n",
    "})\n",
    "print(na_summary_table)"
   ]
  },
  {
   "cell_type": "code",
   "execution_count": 5,
   "id": "52db0d74-12b3-4401-a22a-f61a4d0d0f72",
   "metadata": {},
   "outputs": [],
   "source": [
    "df_clean = df.dropna(subset=['rating_number']) # Create subset of the dataset where rating_number is not NA"
   ]
  },
  {
   "cell_type": "markdown",
   "id": "f44b2f9f-14db-45eb-ab2d-8375cca19563",
   "metadata": {},
   "source": [
    "<p>\n",
    "We imputed missing values in the cost column using the median of the available data, as it is robust to outliers and better reflects the skewed distribution of restaurant prices. This ensured the column was complete without distorting the overall distribution.\n",
    "</p>"
   ]
  },
  {
   "cell_type": "code",
   "execution_count": 6,
   "id": "691fa870-a874-487c-94dc-16c45c34236b",
   "metadata": {},
   "outputs": [
    {
     "name": "stdout",
     "output_type": "stream",
     "text": [
      "               Missing Values  Percentage\n",
      "address                     0    0.000000\n",
      "cost                      103    0.014337\n",
      "cuisine                     0    0.000000\n",
      "lat                       115    0.016008\n",
      "link                        0    0.000000\n",
      "lng                       115    0.016008\n",
      "phone                       0    0.000000\n",
      "rating_number               0    0.000000\n",
      "rating_text                 0    0.000000\n",
      "subzone                     0    0.000000\n",
      "title                       0    0.000000\n",
      "type                       21    0.002923\n",
      "votes                       0    0.000000\n",
      "groupon                     0    0.000000\n",
      "color                       0    0.000000\n",
      "cost_2                    103    0.014337\n",
      "cuisine_color               0    0.000000\n"
     ]
    }
   ],
   "source": [
    "na_summary_table = pd.DataFrame({\n",
    "    'Missing Values': df_clean.isna().sum(),\n",
    "    'Percentage': df_clean.isna().mean()\n",
    "})\n",
    "print(na_summary_table)"
   ]
  },
  {
   "cell_type": "code",
   "execution_count": 7,
   "id": "989249f2-c802-493d-8a65-91d181e29ff9",
   "metadata": {},
   "outputs": [],
   "source": [
    "# List of numeric columns to impute\n",
    "cols_to_impute = ['cost', 'cost_2']   # add more columns here if needed\n",
    "\n",
    "for col in cols_to_impute:\n",
    "    median_value = df_clean[col].median()\n",
    "    df_clean.loc[df_clean[col].isna(), col] = median_value"
   ]
  },
  {
   "cell_type": "code",
   "execution_count": 8,
   "id": "fc447c7a-6ee7-4a82-882c-e63457c21d79",
   "metadata": {},
   "outputs": [
    {
     "name": "stdout",
     "output_type": "stream",
     "text": [
      "               Missing Values  Percentage\n",
      "address                     0    0.000000\n",
      "cost                        0    0.000000\n",
      "cuisine                     0    0.000000\n",
      "lat                       115    0.016008\n",
      "link                        0    0.000000\n",
      "lng                       115    0.016008\n",
      "phone                       0    0.000000\n",
      "rating_number               0    0.000000\n",
      "rating_text                 0    0.000000\n",
      "subzone                     0    0.000000\n",
      "title                       0    0.000000\n",
      "type                       21    0.002923\n",
      "votes                       0    0.000000\n",
      "groupon                     0    0.000000\n",
      "color                       0    0.000000\n",
      "cost_2                      0    0.000000\n",
      "cuisine_color               0    0.000000\n"
     ]
    }
   ],
   "source": [
    "na_summary_table = pd.DataFrame({\n",
    "    'Missing Values': df_clean.isna().sum(),\n",
    "    'Percentage': df_clean.isna().mean()\n",
    "})\n",
    "print(na_summary_table)"
   ]
  },
  {
   "cell_type": "markdown",
   "id": "e9c5883e-9436-44b5-a706-6eca25d8ecaa",
   "metadata": {},
   "source": [
    "<p>\n",
    "Missing values in the type column were imputed with the placeholder \"Unknown\" to preserve all rows and avoid biasing the dataset. This approach ensures transparency while maintaining consistency across categorical values.\n",
    "</p>"
   ]
  },
  {
   "cell_type": "code",
   "execution_count": 9,
   "id": "fbd3517f-90b3-48d8-8364-e37e811145d4",
   "metadata": {},
   "outputs": [],
   "source": [
    "df_clean.loc[df_clean['type'].isna(), 'type'] = [['Unknown']]"
   ]
  },
  {
   "cell_type": "markdown",
   "id": "f0d57f75-054b-4b3f-ae0f-ded0b74d97a1",
   "metadata": {},
   "source": [
    "<p>\n",
    "Missing latitude and longitude values were imputed using the median coordinates of their respective subzone, ensuring restaurants could still be included in geospatial analysis. This approach preserves data completeness while maintaining spatial consistency at the suburb level. However, we are still left with 14 missing values in both latitude and longitude.\n",
    "</p>"
   ]
  },
  {
   "cell_type": "code",
   "execution_count": 10,
   "id": "4a3685c1-a8aa-415a-ac21-e4986bb459b4",
   "metadata": {},
   "outputs": [],
   "source": [
    "# Impute latitude by suburb\n",
    "df_clean.loc[df_clean['lat'].isna(), 'lat'] = (\n",
    "    df_clean.groupby('subzone')['lat'].transform('median')\n",
    ")\n",
    "\n",
    "# Impute longitude by suburb\n",
    "df_clean.loc[df_clean['lng'].isna(), 'lng'] = (\n",
    "    df_clean.groupby('subzone')['lng'].transform('median')\n",
    ")"
   ]
  },
  {
   "cell_type": "code",
   "execution_count": 11,
   "id": "a6f6556e-c048-45de-b67e-6f66bdbf11d8",
   "metadata": {},
   "outputs": [
    {
     "name": "stdout",
     "output_type": "stream",
     "text": [
      "               Missing Values  Percentage\n",
      "address                     0    0.000000\n",
      "cost                        0    0.000000\n",
      "cuisine                     0    0.000000\n",
      "lat                        14    0.001949\n",
      "link                        0    0.000000\n",
      "lng                        14    0.001949\n",
      "phone                       0    0.000000\n",
      "rating_number               0    0.000000\n",
      "rating_text                 0    0.000000\n",
      "subzone                     0    0.000000\n",
      "title                       0    0.000000\n",
      "type                        0    0.000000\n",
      "votes                       0    0.000000\n",
      "groupon                     0    0.000000\n",
      "color                       0    0.000000\n",
      "cost_2                      0    0.000000\n",
      "cuisine_color               0    0.000000\n"
     ]
    }
   ],
   "source": [
    "na_summary_table = pd.DataFrame({\n",
    "    'Missing Values': df_clean.isna().sum(),\n",
    "    'Percentage': df_clean.isna().mean()\n",
    "})\n",
    "print(na_summary_table)"
   ]
  },
  {
   "cell_type": "markdown",
   "id": "c53bc836-c551-439d-9819-2d43cb484e4d",
   "metadata": {},
   "source": [
    "<p>\n",
    "For the remaining 14 rows, we standardized the subzone by extracting the area name after the final comma (e.g., Sydney, CBD → CBD) and then imputed missing coordinates using the median latitude and longitude of this cleaned subzone. This refinement allowed us to recover additional locations while maintaining consistency with the broader geospatial imputation strategy.\n",
    "</p>"
   ]
  },
  {
   "cell_type": "code",
   "execution_count": 12,
   "id": "34a285c7-ecc9-4dae-adc7-91fe65158062",
   "metadata": {},
   "outputs": [
    {
     "name": "stderr",
     "output_type": "stream",
     "text": [
      "C:\\Users\\Nigel\\AppData\\Local\\Temp\\ipykernel_668\\2552737669.py:2: SettingWithCopyWarning: \n",
      "A value is trying to be set on a copy of a slice from a DataFrame.\n",
      "Try using .loc[row_indexer,col_indexer] = value instead\n",
      "\n",
      "See the caveats in the documentation: https://pandas.pydata.org/pandas-docs/stable/user_guide/indexing.html#returning-a-view-versus-a-copy\n",
      "  df_clean.loc[:, 'subzone_clean'] = (\n"
     ]
    }
   ],
   "source": [
    "# Create subzone_clean safely with .loc\n",
    "df_clean.loc[:, 'subzone_clean'] = (\n",
    "    df_clean['subzone'].str.split(',').str[-1].str.strip()\n",
    ")\n",
    "\n",
    "# Impute latitude\n",
    "df_clean.loc[df_clean['lat'].isna(), 'lat'] = (\n",
    "    df_clean.groupby('subzone_clean')['lat'].transform('median')\n",
    ")\n",
    "\n",
    "# Impute longitude\n",
    "df_clean.loc[df_clean['lng'].isna(), 'lng'] = (\n",
    "    df_clean.groupby('subzone_clean')['lng'].transform('median')\n",
    ")"
   ]
  },
  {
   "cell_type": "code",
   "execution_count": 16,
   "id": "f625fd7f-c403-427a-902e-67864718c618",
   "metadata": {},
   "outputs": [
    {
     "name": "stdout",
     "output_type": "stream",
     "text": [
      "               Missing Values  Percentage\n",
      "address                     0         0.0\n",
      "cost                        0         0.0\n",
      "cuisine                     0         0.0\n",
      "lat                         0         0.0\n",
      "link                        0         0.0\n",
      "lng                         0         0.0\n",
      "phone                       0         0.0\n",
      "rating_number               0         0.0\n",
      "rating_text                 0         0.0\n",
      "subzone                     0         0.0\n",
      "title                       0         0.0\n",
      "type                        0         0.0\n",
      "votes                       0         0.0\n",
      "groupon                     0         0.0\n",
      "color                       0         0.0\n",
      "cost_2                      0         0.0\n",
      "cuisine_color               0         0.0\n",
      "subzone_clean               0         0.0\n"
     ]
    }
   ],
   "source": [
    "na_summary_table = pd.DataFrame({\n",
    "    'Missing Values': df_clean.isna().sum(),\n",
    "    'Percentage': df_clean.isna().mean()\n",
    "})\n",
    "print(na_summary_table)"
   ]
  },
  {
   "cell_type": "markdown",
   "id": "0e522794-66b9-42c9-a19d-f41b1025ac55",
   "metadata": {},
   "source": [
    "#### 1.3. Create Useful Features"
   ]
  },
  {
   "cell_type": "code",
   "execution_count": 18,
   "id": "127860cf-2730-407c-87d8-cf03ccd59a86",
   "metadata": {},
   "outputs": [
    {
     "name": "stdout",
     "output_type": "stream",
     "text": [
      "                                       cuisine  cuisine_diversity\n",
      "0   ['Hot Pot', 'Korean BBQ', 'BBQ', 'Korean']                  0\n",
      "1  ['Cafe', 'Coffee and Tea', 'Salad', 'Poké']                  0\n",
      "2                                 ['Japanese']                  0\n",
      "3                        ['Modern Australian']                  0\n",
      "4                            ['Thai', 'Salad']                  0\n",
      "count    7184.0\n",
      "mean        0.0\n",
      "std         0.0\n",
      "min         0.0\n",
      "25%         0.0\n",
      "50%         0.0\n",
      "75%         0.0\n",
      "max         0.0\n",
      "Name: cuisine_diversity, dtype: float64\n"
     ]
    },
    {
     "name": "stderr",
     "output_type": "stream",
     "text": [
      "C:\\Users\\Nigel\\AppData\\Local\\Temp\\ipykernel_668\\3701837201.py:2: SettingWithCopyWarning: \n",
      "A value is trying to be set on a copy of a slice from a DataFrame.\n",
      "Try using .loc[row_indexer,col_indexer] = value instead\n",
      "\n",
      "See the caveats in the documentation: https://pandas.pydata.org/pandas-docs/stable/user_guide/indexing.html#returning-a-view-versus-a-copy\n",
      "  df_clean.loc[:, 'cuisine_diversity'] = df_clean['cuisine'].apply(lambda x: len(x) if isinstance(x, list) else 0)\n"
     ]
    }
   ],
   "source": [
    "# Create cuisine diversity feature\n",
    "df_clean.loc[:, 'cuisine_diversity'] = df_clean['cuisine'].apply(lambda x: len(x) if isinstance(x, list) else 0)\n",
    "\n",
    "# Quick check\n",
    "print(df_clean[['cuisine', 'cuisine_diversity']].head())\n",
    "print(df_clean['cuisine_diversity'].describe())"
   ]
  }
 ],
 "metadata": {
  "kernelspec": {
   "display_name": "Python 3 (ipykernel)",
   "language": "python",
   "name": "python3"
  },
  "language_info": {
   "codemirror_mode": {
    "name": "ipython",
    "version": 3
   },
   "file_extension": ".py",
   "mimetype": "text/x-python",
   "name": "python",
   "nbconvert_exporter": "python",
   "pygments_lexer": "ipython3",
   "version": "3.11.13"
  }
 },
 "nbformat": 4,
 "nbformat_minor": 5
}
